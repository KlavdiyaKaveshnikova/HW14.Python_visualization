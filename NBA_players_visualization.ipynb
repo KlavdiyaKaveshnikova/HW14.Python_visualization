{
 "cells": [
  {
   "cell_type": "code",
   "execution_count": 1,
   "metadata": {},
   "outputs": [],
   "source": [
    "import pandas as pd\n",
    "import matplotlib.pyplot as plt\n",
    "\n",
    "from pylab import rcParams\n",
    "rcParams['figure.figsize'] = 10,7"
   ]
  },
  {
   "cell_type": "markdown",
   "metadata": {},
   "source": [
    "**Работу с этим массивом данных я начну со столбчатого графика, на мой взгляд самый читабельный и наглядный вид диаграмм.**"
   ]
  },
  {
   "cell_type": "code",
   "execution_count": 2,
   "metadata": {},
   "outputs": [
    {
     "data": {
      "text/plain": [
       "(24691, 2)"
      ]
     },
     "execution_count": 2,
     "metadata": {},
     "output_type": "execute_result"
    }
   ],
   "source": [
    "nba_player = pd.read_csv('/Users/klavdiakavesnikova/projects/Python_homework/HW14_Python_visualization/Seasons_Stats.csv')\n",
    "nba_player = nba_player[['Player', 'Age']]\n",
    "nba_player.shape"
   ]
  },
  {
   "cell_type": "code",
   "execution_count": 3,
   "metadata": {
    "scrolled": false
   },
   "outputs": [
    {
     "name": "stdout",
     "output_type": "stream",
     "text": [
      "(24616, 2)\n"
     ]
    }
   ],
   "source": [
    "# удаляем все дубликаты и ячейки с пустыми значениями\n",
    "\n",
    "nba_player = nba_player.dropna()\n",
    "print(nba_player.shape)"
   ]
  },
  {
   "cell_type": "code",
   "execution_count": 4,
   "metadata": {},
   "outputs": [
    {
     "name": "stdout",
     "output_type": "stream",
     "text": [
      "(20206, 2)\n"
     ]
    }
   ],
   "source": [
    "nba_player.drop_duplicates(subset = ['Player', 'Age'], keep = 'first', inplace = True)\n",
    "print(nba_player.shape)\n",
    "\n",
    "# в итоге из первоначального файла мы убрали порядка 4,4 тыс строк"
   ]
  },
  {
   "cell_type": "code",
   "execution_count": 5,
   "metadata": {},
   "outputs": [],
   "source": [
    "nba_player['Age'] = nba_player.Age.astype('int64')"
   ]
  },
  {
   "cell_type": "code",
   "execution_count": 6,
   "metadata": {},
   "outputs": [],
   "source": [
    "grouped_nba_player = nba_player.groupby(['Age']).count().reset_index()"
   ]
  },
  {
   "cell_type": "code",
   "execution_count": 7,
   "metadata": {},
   "outputs": [
    {
     "data": {
      "image/png": "[encoded data removed]",
      "text/plain": [
       "<Figure size 720x504 with 1 Axes>"
      ]
     },
     "metadata": {
      "needs_background": "light"
     },
     "output_type": "display_data"
    }
   ],
   "source": [
    "plt.barh(grouped_nba_player['Age'], grouped_nba_player['Player'])\n",
    "plt.xlabel('Players, num')\n",
    "plt.ylabel(\"NBA players' age\")\n",
    "plt.title('Age of NBA players')\n",
    "plt.text(2500, 23, 'Most common age')\n",
    "plt.grid()"
   ]
  },
  {
   "cell_type": "markdown",
   "metadata": {},
   "source": [
    "**По этому графику видно, что основной возраст игроков NBA 23-24 года, но информация, которой мы располагаем не дает понять, что это за возраст. Может это возраст игрока на момент начала карьеры (вряд ли старт карьеры может быть в 44 года, но все же), единственное, это точно не возраст игрока на сегодняшний день. Поэтому воспользуемся файлом с другими данными и посчитаем возраст на момент старта и завершения спортивной карьеры.** "
   ]
  },
  {
   "cell_type": "code",
   "execution_count": 8,
   "metadata": {
    "scrolled": true
   },
   "outputs": [
    {
     "data": {
      "text/html": [
       "<div>\n",
       "<style scoped>\n",
       "    .dataframe tbody tr th:only-of-type {\n",
       "        vertical-align: middle;\n",
       "    }\n",
       "\n",
       "    .dataframe tbody tr th {\n",
       "        vertical-align: top;\n",
       "    }\n",
       "\n",
       "    .dataframe thead th {\n",
       "        text-align: right;\n",
       "    }\n",
       "</style>\n",
       "<table border=\"1\" class=\"dataframe\">\n",
       "  <thead>\n",
       "    <tr style=\"text-align: right;\">\n",
       "      <th></th>\n",
       "      <th>name</th>\n",
       "      <th>year_start</th>\n",
       "      <th>year_end</th>\n",
       "      <th>position</th>\n",
       "      <th>height</th>\n",
       "      <th>weight</th>\n",
       "      <th>birth_date</th>\n",
       "      <th>college</th>\n",
       "    </tr>\n",
       "  </thead>\n",
       "  <tbody>\n",
       "    <tr>\n",
       "      <th>0</th>\n",
       "      <td>Alaa Abdelnaby</td>\n",
       "      <td>1991</td>\n",
       "      <td>1995</td>\n",
       "      <td>F-C</td>\n",
       "      <td>6-10</td>\n",
       "      <td>240.0</td>\n",
       "      <td>June 24, 1968</td>\n",
       "      <td>Duke University</td>\n",
       "    </tr>\n",
       "    <tr>\n",
       "      <th>1</th>\n",
       "      <td>Zaid Abdul-Aziz</td>\n",
       "      <td>1969</td>\n",
       "      <td>1978</td>\n",
       "      <td>C-F</td>\n",
       "      <td>6-9</td>\n",
       "      <td>235.0</td>\n",
       "      <td>April 7, 1946</td>\n",
       "      <td>Iowa State University</td>\n",
       "    </tr>\n",
       "    <tr>\n",
       "      <th>2</th>\n",
       "      <td>Kareem Abdul-Jabbar</td>\n",
       "      <td>1970</td>\n",
       "      <td>1989</td>\n",
       "      <td>C</td>\n",
       "      <td>7-2</td>\n",
       "      <td>225.0</td>\n",
       "      <td>April 16, 1947</td>\n",
       "      <td>University of California, Los Angeles</td>\n",
       "    </tr>\n",
       "    <tr>\n",
       "      <th>3</th>\n",
       "      <td>Mahmoud Abdul-Rauf</td>\n",
       "      <td>1991</td>\n",
       "      <td>2001</td>\n",
       "      <td>G</td>\n",
       "      <td>6-1</td>\n",
       "      <td>162.0</td>\n",
       "      <td>March 9, 1969</td>\n",
       "      <td>Louisiana State University</td>\n",
       "    </tr>\n",
       "    <tr>\n",
       "      <th>4</th>\n",
       "      <td>Tariq Abdul-Wahad</td>\n",
       "      <td>1998</td>\n",
       "      <td>2003</td>\n",
       "      <td>F</td>\n",
       "      <td>6-6</td>\n",
       "      <td>223.0</td>\n",
       "      <td>November 3, 1974</td>\n",
       "      <td>San Jose State University</td>\n",
       "    </tr>\n",
       "  </tbody>\n",
       "</table>\n",
       "</div>"
      ],
      "text/plain": [
       "                  name  year_start  year_end position height  weight  \\\n",
       "0       Alaa Abdelnaby        1991      1995      F-C   6-10   240.0   \n",
       "1      Zaid Abdul-Aziz        1969      1978      C-F    6-9   235.0   \n",
       "2  Kareem Abdul-Jabbar        1970      1989        C    7-2   225.0   \n",
       "3   Mahmoud Abdul-Rauf        1991      2001        G    6-1   162.0   \n",
       "4    Tariq Abdul-Wahad        1998      2003        F    6-6   223.0   \n",
       "\n",
       "         birth_date                                college  \n",
       "0     June 24, 1968                        Duke University  \n",
       "1     April 7, 1946                  Iowa State University  \n",
       "2    April 16, 1947  University of California, Los Angeles  \n",
       "3     March 9, 1969             Louisiana State University  \n",
       "4  November 3, 1974              San Jose State University  "
      ]
     },
     "execution_count": 8,
     "metadata": {},
     "output_type": "execute_result"
    }
   ],
   "source": [
    "NBA_pl = pd.read_csv('/Users/klavdiakavesnikova/projects/Python_homework/HW14_Python_visualization/datasets_1358_30676_player_data.csv')\n",
    "NBA_pl.head()"
   ]
  },
  {
   "cell_type": "code",
   "execution_count": 9,
   "metadata": {},
   "outputs": [],
   "source": [
    "# как и при работе с предыдущими данными удаляем все дубликаты и ячейки с пустыми значениями\n",
    "\n",
    "NBA_pl = NBA_pl[['name', 'year_start', 'year_end', 'position', 'birth_date']].dropna()"
   ]
  },
  {
   "cell_type": "code",
   "execution_count": 10,
   "metadata": {},
   "outputs": [
    {
     "data": {
      "text/plain": [
       "(4516, 5)"
      ]
     },
     "execution_count": 10,
     "metadata": {},
     "output_type": "execute_result"
    }
   ],
   "source": [
    "NBA_pl.drop_duplicates(subset = ['name', 'year_start'], keep = 'first', inplace = True)\n",
    "NBA_pl.shape"
   ]
  },
  {
   "cell_type": "code",
   "execution_count": 11,
   "metadata": {},
   "outputs": [],
   "source": [
    "NBA_pl['name'] = NBA_pl.name.astype('str')\n",
    "NBA_pl['year_start'] = NBA_pl.year_start.astype('int64')\n",
    "NBA_pl['year_end'] = NBA_pl.year_end.astype('int64')\n",
    "NBA_pl['birth_date'] = NBA_pl.birth_date.astype('str')"
   ]
  },
  {
   "cell_type": "code",
   "execution_count": 12,
   "metadata": {},
   "outputs": [
    {
     "data": {
      "text/html": [
       "<div>\n",
       "<style scoped>\n",
       "    .dataframe tbody tr th:only-of-type {\n",
       "        vertical-align: middle;\n",
       "    }\n",
       "\n",
       "    .dataframe tbody tr th {\n",
       "        vertical-align: top;\n",
       "    }\n",
       "\n",
       "    .dataframe thead th {\n",
       "        text-align: right;\n",
       "    }\n",
       "</style>\n",
       "<table border=\"1\" class=\"dataframe\">\n",
       "  <thead>\n",
       "    <tr style=\"text-align: right;\">\n",
       "      <th></th>\n",
       "      <th>name</th>\n",
       "      <th>year_start</th>\n",
       "      <th>year_end</th>\n",
       "      <th>position</th>\n",
       "      <th>birth_date</th>\n",
       "      <th>year_of_birth</th>\n",
       "    </tr>\n",
       "  </thead>\n",
       "  <tbody>\n",
       "    <tr>\n",
       "      <th>0</th>\n",
       "      <td>Alaa Abdelnaby</td>\n",
       "      <td>1991</td>\n",
       "      <td>1995</td>\n",
       "      <td>F-C</td>\n",
       "      <td>June 24, 1968</td>\n",
       "      <td>1968</td>\n",
       "    </tr>\n",
       "    <tr>\n",
       "      <th>1</th>\n",
       "      <td>Zaid Abdul-Aziz</td>\n",
       "      <td>1969</td>\n",
       "      <td>1978</td>\n",
       "      <td>C-F</td>\n",
       "      <td>April 7, 1946</td>\n",
       "      <td>1946</td>\n",
       "    </tr>\n",
       "    <tr>\n",
       "      <th>2</th>\n",
       "      <td>Kareem Abdul-Jabbar</td>\n",
       "      <td>1970</td>\n",
       "      <td>1989</td>\n",
       "      <td>C</td>\n",
       "      <td>April 16, 1947</td>\n",
       "      <td>1947</td>\n",
       "    </tr>\n",
       "    <tr>\n",
       "      <th>3</th>\n",
       "      <td>Mahmoud Abdul-Rauf</td>\n",
       "      <td>1991</td>\n",
       "      <td>2001</td>\n",
       "      <td>G</td>\n",
       "      <td>March 9, 1969</td>\n",
       "      <td>1969</td>\n",
       "    </tr>\n",
       "    <tr>\n",
       "      <th>4</th>\n",
       "      <td>Tariq Abdul-Wahad</td>\n",
       "      <td>1998</td>\n",
       "      <td>2003</td>\n",
       "      <td>F</td>\n",
       "      <td>November 3, 1974</td>\n",
       "      <td>1974</td>\n",
       "    </tr>\n",
       "  </tbody>\n",
       "</table>\n",
       "</div>"
      ],
      "text/plain": [
       "                  name  year_start  year_end position        birth_date  \\\n",
       "0       Alaa Abdelnaby        1991      1995      F-C     June 24, 1968   \n",
       "1      Zaid Abdul-Aziz        1969      1978      C-F     April 7, 1946   \n",
       "2  Kareem Abdul-Jabbar        1970      1989        C    April 16, 1947   \n",
       "3   Mahmoud Abdul-Rauf        1991      2001        G     March 9, 1969   \n",
       "4    Tariq Abdul-Wahad        1998      2003        F  November 3, 1974   \n",
       "\n",
       "  year_of_birth  \n",
       "0          1968  \n",
       "1          1946  \n",
       "2          1947  \n",
       "3          1969  \n",
       "4          1974  "
      ]
     },
     "execution_count": 12,
     "metadata": {},
     "output_type": "execute_result"
    }
   ],
   "source": [
    "# с помощью регулярных выражений вычленим год рождения игрока\n",
    "\n",
    "import re\n",
    "\n",
    "phrase = r'1\\d{3}$'\n",
    "\n",
    "def find_match(column):\n",
    "    if re.findall(phrase, column):\n",
    "        return re.findall(phrase, column)[0]\n",
    "    return '0'\n",
    "\n",
    "NBA_pl['year_of_birth'] = NBA_pl.birth_date.apply(find_match)\n",
    "NBA_pl.head()"
   ]
  },
  {
   "cell_type": "code",
   "execution_count": 13,
   "metadata": {},
   "outputs": [],
   "source": [
    "NBA_pl['year_of_birth'] = NBA_pl.year_of_birth.astype('int64')"
   ]
  },
  {
   "cell_type": "code",
   "execution_count": 14,
   "metadata": {
    "scrolled": true
   },
   "outputs": [
    {
     "data": {
      "text/html": [
       "<div>\n",
       "<style scoped>\n",
       "    .dataframe tbody tr th:only-of-type {\n",
       "        vertical-align: middle;\n",
       "    }\n",
       "\n",
       "    .dataframe tbody tr th {\n",
       "        vertical-align: top;\n",
       "    }\n",
       "\n",
       "    .dataframe thead th {\n",
       "        text-align: right;\n",
       "    }\n",
       "</style>\n",
       "<table border=\"1\" class=\"dataframe\">\n",
       "  <thead>\n",
       "    <tr style=\"text-align: right;\">\n",
       "      <th></th>\n",
       "      <th>name</th>\n",
       "      <th>year_start</th>\n",
       "      <th>year_end</th>\n",
       "      <th>position</th>\n",
       "      <th>birth_date</th>\n",
       "      <th>year_of_birth</th>\n",
       "      <th>age_of_start</th>\n",
       "      <th>age_of_end</th>\n",
       "    </tr>\n",
       "  </thead>\n",
       "  <tbody>\n",
       "    <tr>\n",
       "      <th>0</th>\n",
       "      <td>Alaa Abdelnaby</td>\n",
       "      <td>1991</td>\n",
       "      <td>1995</td>\n",
       "      <td>F-C</td>\n",
       "      <td>June 24, 1968</td>\n",
       "      <td>1968</td>\n",
       "      <td>23</td>\n",
       "      <td>27</td>\n",
       "    </tr>\n",
       "    <tr>\n",
       "      <th>1</th>\n",
       "      <td>Zaid Abdul-Aziz</td>\n",
       "      <td>1969</td>\n",
       "      <td>1978</td>\n",
       "      <td>C-F</td>\n",
       "      <td>April 7, 1946</td>\n",
       "      <td>1946</td>\n",
       "      <td>23</td>\n",
       "      <td>32</td>\n",
       "    </tr>\n",
       "    <tr>\n",
       "      <th>2</th>\n",
       "      <td>Kareem Abdul-Jabbar</td>\n",
       "      <td>1970</td>\n",
       "      <td>1989</td>\n",
       "      <td>C</td>\n",
       "      <td>April 16, 1947</td>\n",
       "      <td>1947</td>\n",
       "      <td>23</td>\n",
       "      <td>42</td>\n",
       "    </tr>\n",
       "    <tr>\n",
       "      <th>3</th>\n",
       "      <td>Mahmoud Abdul-Rauf</td>\n",
       "      <td>1991</td>\n",
       "      <td>2001</td>\n",
       "      <td>G</td>\n",
       "      <td>March 9, 1969</td>\n",
       "      <td>1969</td>\n",
       "      <td>22</td>\n",
       "      <td>32</td>\n",
       "    </tr>\n",
       "    <tr>\n",
       "      <th>4</th>\n",
       "      <td>Tariq Abdul-Wahad</td>\n",
       "      <td>1998</td>\n",
       "      <td>2003</td>\n",
       "      <td>F</td>\n",
       "      <td>November 3, 1974</td>\n",
       "      <td>1974</td>\n",
       "      <td>24</td>\n",
       "      <td>29</td>\n",
       "    </tr>\n",
       "  </tbody>\n",
       "</table>\n",
       "</div>"
      ],
      "text/plain": [
       "                  name  year_start  year_end position        birth_date  \\\n",
       "0       Alaa Abdelnaby        1991      1995      F-C     June 24, 1968   \n",
       "1      Zaid Abdul-Aziz        1969      1978      C-F     April 7, 1946   \n",
       "2  Kareem Abdul-Jabbar        1970      1989        C    April 16, 1947   \n",
       "3   Mahmoud Abdul-Rauf        1991      2001        G     March 9, 1969   \n",
       "4    Tariq Abdul-Wahad        1998      2003        F  November 3, 1974   \n",
       "\n",
       "   year_of_birth  age_of_start  age_of_end  \n",
       "0           1968            23          27  \n",
       "1           1946            23          32  \n",
       "2           1947            23          42  \n",
       "3           1969            22          32  \n",
       "4           1974            24          29  "
      ]
     },
     "execution_count": 14,
     "metadata": {},
     "output_type": "execute_result"
    }
   ],
   "source": [
    "NBA_pl.loc[(NBA_pl.year_start!=0) & (NBA_pl.year_of_birth!=0), 'age_of_start'] = NBA_pl.year_start - NBA_pl.year_of_birth\n",
    "NBA_pl.loc[(NBA_pl.year_end!=0) & (NBA_pl.year_of_birth!=0), 'age_of_end'] = NBA_pl.year_end - NBA_pl.year_of_birth\n",
    "NBA_pl.head()"
   ]
  },
  {
   "cell_type": "code",
   "execution_count": 15,
   "metadata": {},
   "outputs": [
    {
     "data": {
      "text/html": [
       "<div>\n",
       "<style scoped>\n",
       "    .dataframe tbody tr th:only-of-type {\n",
       "        vertical-align: middle;\n",
       "    }\n",
       "\n",
       "    .dataframe tbody tr th {\n",
       "        vertical-align: top;\n",
       "    }\n",
       "\n",
       "    .dataframe thead th {\n",
       "        text-align: right;\n",
       "    }\n",
       "</style>\n",
       "<table border=\"1\" class=\"dataframe\">\n",
       "  <thead>\n",
       "    <tr style=\"text-align: right;\">\n",
       "      <th></th>\n",
       "      <th>name</th>\n",
       "      <th>year_start</th>\n",
       "      <th>year_end</th>\n",
       "      <th>position</th>\n",
       "      <th>birth_date</th>\n",
       "      <th>year_of_birth</th>\n",
       "      <th>age_of_start</th>\n",
       "      <th>age_of_end</th>\n",
       "      <th>age_category</th>\n",
       "    </tr>\n",
       "  </thead>\n",
       "  <tbody>\n",
       "    <tr>\n",
       "      <th>0</th>\n",
       "      <td>Alaa Abdelnaby</td>\n",
       "      <td>1991</td>\n",
       "      <td>1995</td>\n",
       "      <td>F-C</td>\n",
       "      <td>June 24, 1968</td>\n",
       "      <td>1968</td>\n",
       "      <td>23</td>\n",
       "      <td>27</td>\n",
       "      <td>before 30</td>\n",
       "    </tr>\n",
       "    <tr>\n",
       "      <th>1</th>\n",
       "      <td>Zaid Abdul-Aziz</td>\n",
       "      <td>1969</td>\n",
       "      <td>1978</td>\n",
       "      <td>C-F</td>\n",
       "      <td>April 7, 1946</td>\n",
       "      <td>1946</td>\n",
       "      <td>23</td>\n",
       "      <td>32</td>\n",
       "      <td>30-35</td>\n",
       "    </tr>\n",
       "    <tr>\n",
       "      <th>2</th>\n",
       "      <td>Kareem Abdul-Jabbar</td>\n",
       "      <td>1970</td>\n",
       "      <td>1989</td>\n",
       "      <td>C</td>\n",
       "      <td>April 16, 1947</td>\n",
       "      <td>1947</td>\n",
       "      <td>23</td>\n",
       "      <td>42</td>\n",
       "      <td>after 40</td>\n",
       "    </tr>\n",
       "    <tr>\n",
       "      <th>3</th>\n",
       "      <td>Mahmoud Abdul-Rauf</td>\n",
       "      <td>1991</td>\n",
       "      <td>2001</td>\n",
       "      <td>G</td>\n",
       "      <td>March 9, 1969</td>\n",
       "      <td>1969</td>\n",
       "      <td>22</td>\n",
       "      <td>32</td>\n",
       "      <td>30-35</td>\n",
       "    </tr>\n",
       "    <tr>\n",
       "      <th>4</th>\n",
       "      <td>Tariq Abdul-Wahad</td>\n",
       "      <td>1998</td>\n",
       "      <td>2003</td>\n",
       "      <td>F</td>\n",
       "      <td>November 3, 1974</td>\n",
       "      <td>1974</td>\n",
       "      <td>24</td>\n",
       "      <td>29</td>\n",
       "      <td>before 30</td>\n",
       "    </tr>\n",
       "  </tbody>\n",
       "</table>\n",
       "</div>"
      ],
      "text/plain": [
       "                  name  year_start  year_end position        birth_date  \\\n",
       "0       Alaa Abdelnaby        1991      1995      F-C     June 24, 1968   \n",
       "1      Zaid Abdul-Aziz        1969      1978      C-F     April 7, 1946   \n",
       "2  Kareem Abdul-Jabbar        1970      1989        C    April 16, 1947   \n",
       "3   Mahmoud Abdul-Rauf        1991      2001        G     March 9, 1969   \n",
       "4    Tariq Abdul-Wahad        1998      2003        F  November 3, 1974   \n",
       "\n",
       "   year_of_birth  age_of_start  age_of_end age_category  \n",
       "0           1968            23          27    before 30  \n",
       "1           1946            23          32        30-35  \n",
       "2           1947            23          42     after 40  \n",
       "3           1969            22          32        30-35  \n",
       "4           1974            24          29    before 30  "
      ]
     },
     "execution_count": 15,
     "metadata": {},
     "output_type": "execute_result"
    }
   ],
   "source": [
    "# сделаем доп столбец с разбивкой возраста игроков на момент окончания карьеры на категории (по нему потом построим график)\n",
    "\n",
    "NBA_pl.loc[NBA_pl.age_of_end < 30, 'age_category'] = 'before 30'\n",
    "NBA_pl.loc[(NBA_pl.age_of_end < 35) & (NBA_pl.age_of_end >= 30), 'age_category'] = '30-35'\n",
    "NBA_pl.loc[(NBA_pl.age_of_end < 40) & (NBA_pl.age_of_end >= 35), 'age_category'] = '35-40'\n",
    "NBA_pl.loc[NBA_pl.age_of_end >= 40, 'age_category'] = 'after 40'\n",
    "NBA_pl.head()"
   ]
  },
  {
   "cell_type": "code",
   "execution_count": 16,
   "metadata": {},
   "outputs": [],
   "source": [
    "NBA_pl_grouped_by_start = NBA_pl[['age_of_start', 'name']].groupby('age_of_start').count()"
   ]
  },
  {
   "cell_type": "code",
   "execution_count": 17,
   "metadata": {},
   "outputs": [
    {
     "data": {
      "text/plain": [
       "Text(0, 0.5, 'players, num')"
      ]
     },
     "execution_count": 17,
     "metadata": {},
     "output_type": "execute_result"
    },
    {
     "data": {
      "image/png": "[encoded data removed]",
      "text/plain": [
       "<Figure size 720x504 with 1 Axes>"
      ]
     },
     "metadata": {
      "needs_background": "light"
     },
     "output_type": "display_data"
    }
   ],
   "source": [
    "NBA_pl_grouped_by_start_bar = NBA_pl_grouped_by_start.plot(kind='bar', legend=False, grid=True)\n",
    "NBA_pl_grouped_by_start_bar.set_title(\"Age at the start of NBA players' careers\")\n",
    "NBA_pl_grouped_by_start_bar.set_xlabel('age')\n",
    "NBA_pl_grouped_by_start_bar.set_ylabel('players, num')"
   ]
  },
  {
   "cell_type": "markdown",
   "metadata": {},
   "source": [
    "**По этому графику видно, что большинство игроков NBA начали карьеру в 23 года, что совпадает с выводом, сделанным из предыдущей таблицы, где кол-во игроков больше почти в 5 раз, но это не мешает вывести статистику.**"
   ]
  },
  {
   "cell_type": "code",
   "execution_count": 18,
   "metadata": {},
   "outputs": [],
   "source": [
    "NBA_pl_grouped_by_end = NBA_pl[['age_category', 'age_of_end']].groupby('age_category').count()"
   ]
  },
  {
   "cell_type": "code",
   "execution_count": 19,
   "metadata": {},
   "outputs": [
    {
     "data": {
      "text/plain": [
       "Text(0, 0.5, 'players, num')"
      ]
     },
     "execution_count": 19,
     "metadata": {},
     "output_type": "execute_result"
    },
    {
     "data": {
      "image/png": "[encoded data removed]",
      "text/plain": [
       "<Figure size 720x504 with 1 Axes>"
      ]
     },
     "metadata": {},
     "output_type": "display_data"
    }
   ],
   "source": [
    "NBA_pl_grouped_by_end_bar = NBA_pl_grouped_by_end.plot(kind='pie', y='age_of_end', legend=False)\n",
    "NBA_pl_grouped_by_end_bar.set_title(\"Age at the end of NBA players' careers\")\n",
    "NBA_pl_grouped_by_end_bar.set_xlabel('age')\n",
    "NBA_pl_grouped_by_end_bar.set_ylabel('players, num')"
   ]
  },
  {
   "cell_type": "markdown",
   "metadata": {},
   "source": [
    "**В этом конкретном случае круговая диаграмма как никогда показательна. Больше половины игроков NBA завершают свою карьеру до 30 лет. А возраст выхода на пенсию одинаков для всех игроков или все-таки зависит от позиции, на которой они играли? Давайте выясним. Для этого построим диаграмму размаха и heatmap.**"
   ]
  },
  {
   "cell_type": "code",
   "execution_count": 25,
   "metadata": {},
   "outputs": [
    {
     "data": {
      "text/html": [
       "<div>\n",
       "<style scoped>\n",
       "    .dataframe tbody tr th:only-of-type {\n",
       "        vertical-align: middle;\n",
       "    }\n",
       "\n",
       "    .dataframe tbody tr th {\n",
       "        vertical-align: top;\n",
       "    }\n",
       "\n",
       "    .dataframe thead th {\n",
       "        text-align: right;\n",
       "    }\n",
       "</style>\n",
       "<table border=\"1\" class=\"dataframe\">\n",
       "  <thead>\n",
       "    <tr style=\"text-align: right;\">\n",
       "      <th></th>\n",
       "      <th>position</th>\n",
       "      <th>age_of_end</th>\n",
       "      <th>age_category</th>\n",
       "    </tr>\n",
       "  </thead>\n",
       "  <tbody>\n",
       "    <tr>\n",
       "      <th>0</th>\n",
       "      <td>F-C</td>\n",
       "      <td>27</td>\n",
       "      <td>before 30</td>\n",
       "    </tr>\n",
       "    <tr>\n",
       "      <th>1</th>\n",
       "      <td>C-F</td>\n",
       "      <td>32</td>\n",
       "      <td>30-35</td>\n",
       "    </tr>\n",
       "    <tr>\n",
       "      <th>2</th>\n",
       "      <td>C</td>\n",
       "      <td>42</td>\n",
       "      <td>after 40</td>\n",
       "    </tr>\n",
       "    <tr>\n",
       "      <th>3</th>\n",
       "      <td>G</td>\n",
       "      <td>32</td>\n",
       "      <td>30-35</td>\n",
       "    </tr>\n",
       "    <tr>\n",
       "      <th>4</th>\n",
       "      <td>F</td>\n",
       "      <td>29</td>\n",
       "      <td>before 30</td>\n",
       "    </tr>\n",
       "  </tbody>\n",
       "</table>\n",
       "</div>"
      ],
      "text/plain": [
       "  position  age_of_end age_category\n",
       "0      F-C          27    before 30\n",
       "1      C-F          32        30-35\n",
       "2        C          42     after 40\n",
       "3        G          32        30-35\n",
       "4        F          29    before 30"
      ]
     },
     "execution_count": 25,
     "metadata": {},
     "output_type": "execute_result"
    }
   ],
   "source": [
    "NBA_pl[['position', 'age_of_end', 'age_category']].head()"
   ]
  },
  {
   "cell_type": "code",
   "execution_count": 24,
   "metadata": {},
   "outputs": [
    {
     "data": {
      "text/plain": [
       "array(['F-C', 'C-F', 'C', 'G', 'F', 'G-F', 'F-G'], dtype=object)"
      ]
     },
     "execution_count": 24,
     "metadata": {},
     "output_type": "execute_result"
    }
   ],
   "source": [
    "# выясним, какие позиции вообще есть, все разбирать не будем, ниже небольшие пояснения\n",
    "# C - center\n",
    "# F - forward\n",
    "# G - guard\n",
    "# возможны комбинации \n",
    "\n",
    "NBA_pos = NBA_pl['position'].unique()\n",
    "NBA_pos"
   ]
  },
  {
   "cell_type": "code",
   "execution_count": 28,
   "metadata": {},
   "outputs": [],
   "source": [
    "import seaborn as sns"
   ]
  },
  {
   "cell_type": "code",
   "execution_count": 49,
   "metadata": {},
   "outputs": [
    {
     "data": {
      "image/png": "[encoded data removed]",
      "text/plain": [
       "<Figure size 720x504 with 1 Axes>"
      ]
     },
     "metadata": {
      "needs_background": "light"
     },
     "output_type": "display_data"
    }
   ],
   "source": [
    "NBA_pos_boxplot = sns.boxplot(x=\"position\", y=\"age_of_end\", data=NBA_pl)"
   ]
  },
  {
   "cell_type": "markdown",
   "metadata": {},
   "source": [
    "**Что ж, раньше всех на пенсию выходят именно forward, guard (медиана распределения ниже всех).**"
   ]
  },
  {
   "cell_type": "code",
   "execution_count": 55,
   "metadata": {},
   "outputs": [
    {
     "data": {
      "text/html": [
       "<div>\n",
       "<style scoped>\n",
       "    .dataframe tbody tr th:only-of-type {\n",
       "        vertical-align: middle;\n",
       "    }\n",
       "\n",
       "    .dataframe tbody tr th {\n",
       "        vertical-align: top;\n",
       "    }\n",
       "\n",
       "    .dataframe thead th {\n",
       "        text-align: right;\n",
       "    }\n",
       "</style>\n",
       "<table border=\"1\" class=\"dataframe\">\n",
       "  <thead>\n",
       "    <tr style=\"text-align: right;\">\n",
       "      <th>age_category</th>\n",
       "      <th>30-35</th>\n",
       "      <th>35-40</th>\n",
       "      <th>after 40</th>\n",
       "      <th>before 30</th>\n",
       "    </tr>\n",
       "    <tr>\n",
       "      <th>position</th>\n",
       "      <th></th>\n",
       "      <th></th>\n",
       "      <th></th>\n",
       "      <th></th>\n",
       "    </tr>\n",
       "  </thead>\n",
       "  <tbody>\n",
       "    <tr>\n",
       "      <th>C</th>\n",
       "      <td>119</td>\n",
       "      <td>43</td>\n",
       "      <td>4</td>\n",
       "      <td>333</td>\n",
       "    </tr>\n",
       "    <tr>\n",
       "      <th>C-F</th>\n",
       "      <td>83</td>\n",
       "      <td>26</td>\n",
       "      <td>10</td>\n",
       "      <td>99</td>\n",
       "    </tr>\n",
       "    <tr>\n",
       "      <th>F</th>\n",
       "      <td>233</td>\n",
       "      <td>69</td>\n",
       "      <td>4</td>\n",
       "      <td>967</td>\n",
       "    </tr>\n",
       "    <tr>\n",
       "      <th>F-C</th>\n",
       "      <td>146</td>\n",
       "      <td>52</td>\n",
       "      <td>9</td>\n",
       "      <td>181</td>\n",
       "    </tr>\n",
       "    <tr>\n",
       "      <th>F-G</th>\n",
       "      <td>81</td>\n",
       "      <td>25</td>\n",
       "      <td>3</td>\n",
       "      <td>103</td>\n",
       "    </tr>\n",
       "    <tr>\n",
       "      <th>G</th>\n",
       "      <td>345</td>\n",
       "      <td>127</td>\n",
       "      <td>10</td>\n",
       "      <td>1085</td>\n",
       "    </tr>\n",
       "    <tr>\n",
       "      <th>G-F</th>\n",
       "      <td>117</td>\n",
       "      <td>42</td>\n",
       "      <td>6</td>\n",
       "      <td>194</td>\n",
       "    </tr>\n",
       "  </tbody>\n",
       "</table>\n",
       "</div>"
      ],
      "text/plain": [
       "age_category  30-35  35-40  after 40  before 30\n",
       "position                                       \n",
       "C               119     43         4        333\n",
       "C-F              83     26        10         99\n",
       "F               233     69         4        967\n",
       "F-C             146     52         9        181\n",
       "F-G              81     25         3        103\n",
       "G               345    127        10       1085\n",
       "G-F             117     42         6        194"
      ]
     },
     "execution_count": 55,
     "metadata": {},
     "output_type": "execute_result"
    }
   ],
   "source": [
    "NBA_position_table = NBA_pl.pivot_table(index='position', columns='age_category', values='age_of_end', aggfunc='count')\n",
    "NBA_position_table"
   ]
  },
  {
   "cell_type": "code",
   "execution_count": 54,
   "metadata": {},
   "outputs": [
    {
     "data": {
      "image/png": "[encoded data removed]",
      "text/plain": [
       "<Figure size 720x504 with 2 Axes>"
      ]
     },
     "metadata": {
      "needs_background": "light"
     },
     "output_type": "display_data"
    }
   ],
   "source": [
    "# явно указываю последовательность категорий\n",
    "\n",
    "NBA_pos_heatmap = sns.heatmap(NBA_position_table[['before 30', '30-35', '35-40', 'after 40']])"
   ]
  },
  {
   "cell_type": "markdown",
   "metadata": {},
   "source": [
    "**Подтвердили свое предположение - лидеры по раннему выходу на пенсию: Forward, Guard.**"
   ]
  },
  {
   "cell_type": "code",
   "execution_count": null,
   "metadata": {},
   "outputs": [],
   "source": []
  }
 ],
 "metadata": {
  "kernelspec": {
   "display_name": "Python 3",
   "language": "python",
   "name": "python3"
  },
  "language_info": {
   "codemirror_mode": {
    "name": "ipython",
    "version": 3
   },
   "file_extension": ".py",
   "mimetype": "text/x-python",
   "name": "python",
   "nbconvert_exporter": "python",
   "pygments_lexer": "ipython3",
   "version": "3.8.3"
  }
 },
 "nbformat": 4,
 "nbformat_minor": 4
}
